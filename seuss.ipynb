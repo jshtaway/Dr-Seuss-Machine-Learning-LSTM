{
 "cells": [
  {
   "cell_type": "markdown",
   "metadata": {},
   "source": [
    "# Cleaning txt file"
   ]
  },
  {
   "cell_type": "code",
   "execution_count": null,
   "metadata": {},
   "outputs": [],
   "source": [
    "with open ('drseuss.txt', 'r+', encoding=\"utf-8\", errors='ignore') as f:\n",
    "     with open ('drseuss_new.txt', 'w+') as nf:\n",
    "        lines = f.readlines()\n",
    "        replacements = [('\\n', ''), ('   ', ' '), ('  ', ' '), ('\\\"', ''), \n",
    "                        ('...', '.'), ('....', '.'), ('?', '.'), ('!', '.')]\n",
    "        lines = ' '.join(lines)\n",
    "        for current, new in replacements:\n",
    "            lines = lines.replace(current,new)\n",
    "        lines = lines.lower()\n",
    "        nf.write(lines)"
   ]
  },
  {
   "cell_type": "code",
   "execution_count": 1,
   "metadata": {},
   "outputs": [
    {
     "name": "stderr",
     "output_type": "stream",
     "text": [
      "/anaconda3/envs/PythonData/lib/python3.6/site-packages/h5py/__init__.py:36: FutureWarning: Conversion of the second argument of issubdtype from `float` to `np.floating` is deprecated. In future, it will be treated as `np.float64 == np.dtype(float).type`.\n",
      "  from ._conv import register_converters as _register_converters\n",
      "Using TensorFlow backend.\n"
     ]
    }
   ],
   "source": [
    "import numpy\n",
    "from keras.models import Sequential\n",
    "from keras.layers import Dense\n",
    "from keras.layers import Dropout\n",
    "from keras.layers import LSTM\n",
    "from keras.callbacks import ModelCheckpoint\n",
    "from keras.utils import np_utils\n",
    "import sys"
   ]
  },
  {
   "cell_type": "markdown",
   "metadata": {},
   "source": [
    "# Training Model"
   ]
  },
  {
   "cell_type": "code",
   "execution_count": 2,
   "metadata": {},
   "outputs": [],
   "source": [
    "filename = \"drseuss_new.txt\"\n",
    "raw_text = open(filename).read()\n"
   ]
  },
  {
   "cell_type": "code",
   "execution_count": 6,
   "metadata": {},
   "outputs": [
    {
     "data": {
      "text/plain": [
       "'g'"
      ]
     },
     "execution_count": 6,
     "metadata": {},
     "output_type": "execute_result"
    }
   ],
   "source": [
    "list(set(raw_text))[0]"
   ]
  },
  {
   "cell_type": "code",
   "execution_count": 7,
   "metadata": {},
   "outputs": [],
   "source": [
    "# create mapping of unique chars to integers\n",
    "chars = sorted(list(set(raw_text)))\n",
    "char_to_int = dict((c, i) for i, c in enumerate(chars))"
   ]
  },
  {
   "cell_type": "code",
   "execution_count": 8,
   "metadata": {},
   "outputs": [
    {
     "name": "stdout",
     "output_type": "stream",
     "text": [
      "Total Characters:  30047\n",
      "Total Vocab:  34\n"
     ]
    }
   ],
   "source": [
    "n_chars = len(raw_text)\n",
    "n_vocab = len(chars)\n",
    "print (\"Total Characters: \", n_chars)\n",
    "print (\"Total Vocab: \", n_vocab)"
   ]
  },
  {
   "cell_type": "code",
   "execution_count": 9,
   "metadata": {},
   "outputs": [
    {
     "name": "stdout",
     "output_type": "stream",
     "text": [
      "Total Patterns:  29947\n"
     ]
    }
   ],
   "source": [
    "# prepare the dataset of input to output pairs encoded as integers\n",
    "seq_length = 100\n",
    "dataX = []\n",
    "dataY = []\n",
    "for i in range(0, n_chars - seq_length, 1):\n",
    "    seq_in = raw_text[i:i + seq_length]\n",
    "    seq_out = raw_text[i + seq_length]\n",
    "    dataX.append([char_to_int[char] for char in seq_in])\n",
    "    dataY.append(char_to_int[seq_out])\n",
    "n_patterns = len(dataX)\n",
    "print (\"Total Patterns: \", n_patterns)"
   ]
  },
  {
   "cell_type": "code",
   "execution_count": 10,
   "metadata": {},
   "outputs": [],
   "source": [
    "# reshape X to be [samples, time steps, features]\n",
    "X = numpy.reshape(dataX, (n_patterns, seq_length, 1))\n",
    "# normalize\n",
    "X = X / float(n_vocab)\n",
    "# one hot encode the output variable\n",
    "y = np_utils.to_categorical(dataY)"
   ]
  },
  {
   "cell_type": "code",
   "execution_count": 11,
   "metadata": {},
   "outputs": [],
   "source": [
    "# define the LSTM model\n",
    "model = Sequential()\n",
    "model.add(LSTM(256, input_shape=(X.shape[1], X.shape[2])))\n",
    "model.add(Dropout(0.2))\n",
    "model.add(Dense(y.shape[1], activation='softmax'))\n",
    "model.compile(loss='categorical_crossentropy', optimizer='adam')"
   ]
  },
  {
   "cell_type": "code",
   "execution_count": 12,
   "metadata": {},
   "outputs": [],
   "source": [
    "# define the checkpoint\n",
    "filepath=\"weights-improvement-{epoch:02d}-{loss:.4f}.hdf5\"\n",
    "checkpoint = ModelCheckpoint(filepath, monitor='loss', verbose=1, save_best_only=True, mode='min')\n",
    "callbacks_list = [checkpoint]"
   ]
  },
  {
   "cell_type": "code",
   "execution_count": 13,
   "metadata": {},
   "outputs": [
    {
     "name": "stdout",
     "output_type": "stream",
     "text": [
      "Epoch 1/20\n",
      "29947/29947 [==============================] - 2552s 85ms/step - loss: 2.9403\n",
      "\n",
      "Epoch 00001: loss improved from inf to 2.94030, saving model to weights-improvement-01-2.9403.hdf5\n",
      "Epoch 2/20\n",
      "29947/29947 [==============================] - 2829s 94ms/step - loss: 2.8767\n",
      "\n",
      "Epoch 00002: loss improved from 2.94030 to 2.87673, saving model to weights-improvement-02-2.8767.hdf5\n",
      "Epoch 3/20\n",
      "29947/29947 [==============================] - 2434s 81ms/step - loss: 2.7569\n",
      "\n",
      "Epoch 00003: loss improved from 2.87673 to 2.75686, saving model to weights-improvement-03-2.7569.hdf5\n",
      "Epoch 4/20\n",
      "29947/29947 [==============================] - 2367s 79ms/step - loss: 2.6688\n",
      "\n",
      "Epoch 00004: loss improved from 2.75686 to 2.66882, saving model to weights-improvement-04-2.6688.hdf5\n",
      "Epoch 5/20\n",
      "29947/29947 [==============================] - 2677s 89ms/step - loss: 2.6138\n",
      "\n",
      "Epoch 00005: loss improved from 2.66882 to 2.61383, saving model to weights-improvement-05-2.6138.hdf5\n",
      "Epoch 6/20\n",
      "29947/29947 [==============================] - 2302s 77ms/step - loss: 2.5721\n",
      "\n",
      "Epoch 00006: loss improved from 2.61383 to 2.57208, saving model to weights-improvement-06-2.5721.hdf5\n",
      "Epoch 7/20\n",
      "29947/29947 [==============================] - 2290s 76ms/step - loss: 2.5217\n",
      "\n",
      "Epoch 00007: loss improved from 2.57208 to 2.52166, saving model to weights-improvement-07-2.5217.hdf5\n",
      "Epoch 8/20\n",
      "29947/29947 [==============================] - 2290s 76ms/step - loss: 2.4727\n",
      "\n",
      "Epoch 00008: loss improved from 2.52166 to 2.47268, saving model to weights-improvement-08-2.4727.hdf5\n",
      "Epoch 9/20\n",
      "29947/29947 [==============================] - 2288s 76ms/step - loss: 2.4120\n",
      "\n",
      "Epoch 00009: loss improved from 2.47268 to 2.41199, saving model to weights-improvement-09-2.4120.hdf5\n",
      "Epoch 10/20\n",
      "29947/29947 [==============================] - 2290s 76ms/step - loss: 2.3550\n",
      "\n",
      "Epoch 00010: loss improved from 2.41199 to 2.35503, saving model to weights-improvement-10-2.3550.hdf5\n",
      "Epoch 11/20\n",
      "29947/29947 [==============================] - 2291s 77ms/step - loss: 2.2885\n",
      "\n",
      "Epoch 00011: loss improved from 2.35503 to 2.28846, saving model to weights-improvement-11-2.2885.hdf5\n",
      "Epoch 12/20\n",
      "29947/29947 [==============================] - 2291s 77ms/step - loss: 2.2267\n",
      "\n",
      "Epoch 00012: loss improved from 2.28846 to 2.22666, saving model to weights-improvement-12-2.2267.hdf5\n",
      "Epoch 13/20\n",
      "29947/29947 [==============================] - 2290s 76ms/step - loss: 2.1624\n",
      "\n",
      "Epoch 00013: loss improved from 2.22666 to 2.16241, saving model to weights-improvement-13-2.1624.hdf5\n",
      "Epoch 14/20\n",
      "29947/29947 [==============================] - 2289s 76ms/step - loss: 2.1017\n",
      "\n",
      "Epoch 00014: loss improved from 2.16241 to 2.10165, saving model to weights-improvement-14-2.1017.hdf5\n",
      "Epoch 15/20\n",
      "29947/29947 [==============================] - 2289s 76ms/step - loss: 2.0399\n",
      "\n",
      "Epoch 00015: loss improved from 2.10165 to 2.03992, saving model to weights-improvement-15-2.0399.hdf5\n",
      "Epoch 16/20\n",
      "29947/29947 [==============================] - 2291s 76ms/step - loss: 1.9817\n",
      "\n",
      "Epoch 00016: loss improved from 2.03992 to 1.98175, saving model to weights-improvement-16-1.9817.hdf5\n",
      "Epoch 17/20\n",
      "29947/29947 [==============================] - 2292s 77ms/step - loss: 1.9273\n",
      "\n",
      "Epoch 00017: loss improved from 1.98175 to 1.92730, saving model to weights-improvement-17-1.9273.hdf5\n",
      "Epoch 18/20\n",
      "29947/29947 [==============================] - 2292s 77ms/step - loss: 1.8675\n",
      "\n",
      "Epoch 00018: loss improved from 1.92730 to 1.86748, saving model to weights-improvement-18-1.8675.hdf5\n",
      "Epoch 19/20\n",
      "29947/29947 [==============================] - 2295s 77ms/step - loss: 1.8070\n",
      "\n",
      "Epoch 00019: loss improved from 1.86748 to 1.80703, saving model to weights-improvement-19-1.8070.hdf5\n",
      "Epoch 20/20\n",
      "29947/29947 [==============================] - 2290s 76ms/step - loss: 1.7518\n",
      "\n",
      "Epoch 00020: loss improved from 1.80703 to 1.75182, saving model to weights-improvement-20-1.7518.hdf5\n"
     ]
    },
    {
     "data": {
      "text/plain": [
       "<keras.callbacks.History at 0x18256cb470>"
      ]
     },
     "execution_count": 13,
     "metadata": {},
     "output_type": "execute_result"
    }
   ],
   "source": [
    "model.fit(X, y, epochs=20, batch_size=128, callbacks=callbacks_list, verbose=1)"
   ]
  },
  {
   "cell_type": "markdown",
   "metadata": {},
   "source": [
    "# Running Model with Seed Input"
   ]
  },
  {
   "cell_type": "code",
   "execution_count": 14,
   "metadata": {
    "scrolled": true
   },
   "outputs": [
    {
     "name": "stdout",
     "output_type": "stream",
     "text": [
      " th lh lh lh lh lh lh lh lh lh lh lh lh lh lh lh l"
     ]
    }
   ],
   "source": [
    "filename = \"weights-improvement-20-1.7518.hdf5\"\n",
    "model.load_weights(filename)\n",
    "model.compile(loss='categorical_crossentropy', optimizer='adam')\n",
    "\n",
    "\n",
    "\n",
    "int_to_char = dict((i, c) for i, c in enumerate(chars))\n",
    "\n",
    "pattern = \"the cat in the hat said to the bat that i’m fat. oh no, said the bat, i’m not fat. what say you bird\"\n",
    "\n",
    "x_train = [char_to_int[i] for i in pattern]\n",
    "x_train = numpy.reshape(x_train, (1,len(x_train),1))\n",
    "x_train = x_train / float(n_vocab)\n",
    "\n",
    "for i in range(50):\n",
    "    x_train = numpy.reshape(x_train, (1,-1,1))\n",
    "    prediction = model.predict(x_train, verbose=0)\n",
    "    index = numpy.argmax(prediction)\n",
    "    result = int_to_char[index]\n",
    "#     seq_in = [int_to_char[value] for value in x_train]\n",
    "\n",
    "    sys.stdout.write(result)\n",
    "    x_train = numpy.append(x_train, index)\n",
    "    x_train = x_train[1:len(x_train)]\n",
    "    \n",
    "    "
   ]
  },
  {
   "cell_type": "code",
   "execution_count": null,
   "metadata": {},
   "outputs": [],
   "source": [
    "temp = model.predict(numpy.reshape(x_train, (1,-1,1)))"
   ]
  },
  {
   "cell_type": "code",
   "execution_count": null,
   "metadata": {
    "scrolled": true
   },
   "outputs": [],
   "source": [
    "print(list(zip(temp[0], int_to_char.values())))"
   ]
  },
  {
   "cell_type": "code",
   "execution_count": null,
   "metadata": {
    "scrolled": false
   },
   "outputs": [],
   "source": [
    "int_to_char[15]\n",
    "int_to_char[26]"
   ]
  },
  {
   "cell_type": "code",
   "execution_count": null,
   "metadata": {},
   "outputs": [],
   "source": []
  },
  {
   "cell_type": "code",
   "execution_count": null,
   "metadata": {},
   "outputs": [],
   "source": []
  },
  {
   "cell_type": "code",
   "execution_count": null,
   "metadata": {},
   "outputs": [],
   "source": []
  },
  {
   "cell_type": "code",
   "execution_count": null,
   "metadata": {},
   "outputs": [],
   "source": []
  },
  {
   "cell_type": "code",
   "execution_count": null,
   "metadata": {},
   "outputs": [],
   "source": []
  },
  {
   "cell_type": "code",
   "execution_count": null,
   "metadata": {},
   "outputs": [],
   "source": []
  },
  {
   "cell_type": "code",
   "execution_count": null,
   "metadata": {},
   "outputs": [],
   "source": []
  },
  {
   "cell_type": "code",
   "execution_count": null,
   "metadata": {},
   "outputs": [],
   "source": []
  },
  {
   "cell_type": "code",
   "execution_count": null,
   "metadata": {},
   "outputs": [],
   "source": []
  },
  {
   "cell_type": "code",
   "execution_count": null,
   "metadata": {},
   "outputs": [],
   "source": []
  },
  {
   "cell_type": "code",
   "execution_count": null,
   "metadata": {},
   "outputs": [],
   "source": []
  },
  {
   "cell_type": "code",
   "execution_count": null,
   "metadata": {},
   "outputs": [],
   "source": []
  },
  {
   "cell_type": "code",
   "execution_count": null,
   "metadata": {},
   "outputs": [],
   "source": []
  },
  {
   "cell_type": "code",
   "execution_count": null,
   "metadata": {},
   "outputs": [],
   "source": []
  }
 ],
 "metadata": {
  "kernelspec": {
   "display_name": "Python 3",
   "language": "python",
   "name": "python3"
  },
  "language_info": {
   "codemirror_mode": {
    "name": "ipython",
    "version": 3
   },
   "file_extension": ".py",
   "mimetype": "text/x-python",
   "name": "python",
   "nbconvert_exporter": "python",
   "pygments_lexer": "ipython3",
   "version": "3.6.4"
  }
 },
 "nbformat": 4,
 "nbformat_minor": 2
}
